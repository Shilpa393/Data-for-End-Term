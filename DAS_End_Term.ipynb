{
  "nbformat": 4,
  "nbformat_minor": 0,
  "metadata": {
    "colab": {
      "provenance": [],
      "toc_visible": true,
      "mount_file_id": "16MkaU5hwBCQ1tLRiz3KkYXjpCnZkuOxB",
      "authorship_tag": "ABX9TyNJsFFF3J1PTeWxhGnbHq/f",
      "include_colab_link": true
    },
    "kernelspec": {
      "name": "python3",
      "display_name": "Python 3"
    },
    "language_info": {
      "name": "python"
    }
  },
  "cells": [
    {
      "cell_type": "markdown",
      "metadata": {
        "id": "view-in-github",
        "colab_type": "text"
      },
      "source": [
        "<a href=\"https://colab.research.google.com/github/Shilpa393/Data-for-End-Term/blob/main/DAS_End_Term.ipynb\" target=\"_parent\"><img src=\"https://colab.research.google.com/assets/colab-badge.svg\" alt=\"Open In Colab\"/></a>"
      ]
    },
    {
      "cell_type": "markdown",
      "source": [
        "Problem Statement:\n",
        "The task is to predict whether an individual's income exceeds $50,000 per year based on various demographic and employment attributes. This is a classification problem where the target variable is the 'income' column, which has two classes: <=50K and >50K.\n",
        "\n",
        "Predicting Income Level:\n",
        "\n",
        "Objective: Predict whether an individual earns more than $50,000 per year (>50K)  or less than or equal to $50,000 per year (<=50K).\n",
        "\n",
        "Target Variable: income (categorical with two classes: <=50K and >50K).\n",
        "\n",
        "Features: A mix of demographic and employment-related attributes such as age, workclass, education, marital_status, occupation, race, sex, capital-gain, capital-loss, hours-per-week, and native-country."
      ],
      "metadata": {
        "id": "-YSQvunNLx2g"
      }
    },
    {
      "cell_type": "markdown",
      "source": [
        "#Install Spark, current version"
      ],
      "metadata": {
        "id": "_4eeDwNOA37W"
      }
    },
    {
      "cell_type": "code",
      "source": [
        "#import findspark\n",
        "#findspark.init()\n",
        "!pip3 install -q pyspark\n",
        "from pyspark.sql import SparkSession\n",
        "spark = SparkSession.builder.appName('Income_Prediction').master(\"local[*]\").getOrCreate()\n",
        "sc = spark.sparkContext\n",
        "sc"
      ],
      "metadata": {
        "colab": {
          "base_uri": "https://localhost:8080/",
          "height": 248
        },
        "id": "k_ZEv3QEAog8",
        "outputId": "a27deef5-e846-414f-d1bc-ba06ecd57bd1"
      },
      "execution_count": null,
      "outputs": [
        {
          "output_type": "stream",
          "name": "stdout",
          "text": [
            "\u001b[2K     \u001b[90m━━━━━━━━━━━━━━━━━━━━━━━━━━━━━━━━━━━━━━━━\u001b[0m \u001b[32m317.0/317.0 MB\u001b[0m \u001b[31m1.7 MB/s\u001b[0m eta \u001b[36m0:00:00\u001b[0m\n",
            "\u001b[?25h  Preparing metadata (setup.py) ... \u001b[?25l\u001b[?25hdone\n",
            "  Building wheel for pyspark (setup.py) ... \u001b[?25l\u001b[?25hdone\n"
          ]
        },
        {
          "output_type": "execute_result",
          "data": {
            "text/plain": [
              "<SparkContext master=local[*] appName=Income_Prediction>"
            ],
            "text/html": [
              "\n",
              "        <div>\n",
              "            <p><b>SparkContext</b></p>\n",
              "\n",
              "            <p><a href=\"http://24fbf807549e:4040\">Spark UI</a></p>\n",
              "\n",
              "            <dl>\n",
              "              <dt>Version</dt>\n",
              "                <dd><code>v3.5.1</code></dd>\n",
              "              <dt>Master</dt>\n",
              "                <dd><code>local[*]</code></dd>\n",
              "              <dt>AppName</dt>\n",
              "                <dd><code>Income_Prediction</code></dd>\n",
              "            </dl>\n",
              "        </div>\n",
              "        "
            ]
          },
          "metadata": {},
          "execution_count": 1
        }
      ]
    },
    {
      "cell_type": "markdown",
      "source": [
        "#Load Dataset"
      ],
      "metadata": {
        "id": "wJz3dnlABClG"
      }
    },
    {
      "cell_type": "code",
      "source": [
        "inc_df=spark.read.csv('/content/drive/MyDrive/Adult Income Dataset.csv',inferSchema=True,header=True)\n",
        "inc_df.show(10)"
      ],
      "metadata": {
        "colab": {
          "base_uri": "https://localhost:8080/"
        },
        "id": "k47KgGImA-Nw",
        "outputId": "2b298f89-d70f-4652-f3ae-3247586c0af9"
      },
      "execution_count": null,
      "outputs": [
        {
          "output_type": "stream",
          "name": "stdout",
          "text": [
            "+---+-----------------+------+----------+-------------+--------------------+------------------+--------------+------+-------+------------+------------+--------------+--------------+------+\n",
            "|Age|        workclass|fnlwgt| education|education-num|      marital_status|        occupation|  relationship|  race|    sex|capital-gain|capital-loss|hours-per-week|native_country|income|\n",
            "+---+-----------------+------+----------+-------------+--------------------+------------------+--------------+------+-------+------------+------------+--------------+--------------+------+\n",
            "| 39|        State-gov| 77516| Bachelors|           13|       Never-married|      Adm-clerical| Not-in-family| White|   Male|        2174|           0|            40| United-States| <=50K|\n",
            "| 50| Self-emp-not-inc| 83311| Bachelors|           13|  Married-civ-spouse|   Exec-managerial|       Husband| White|   Male|           0|           0|            13| United-States| <=50K|\n",
            "| 38|          Private|215646|   HS-grad|            9|            Divorced| Handlers-cleaners| Not-in-family| White|   Male|           0|           0|            40| United-States| <=50K|\n",
            "| 53|          Private|234721|      11th|            7|  Married-civ-spouse| Handlers-cleaners|       Husband| Black|   Male|           0|           0|            40| United-States| <=50K|\n",
            "| 28|          Private|338409| Bachelors|           13|  Married-civ-spouse|    Prof-specialty|          Wife| Black| Female|           0|           0|            40|          Cuba| <=50K|\n",
            "| 37|          Private|284582|   Masters|           14|  Married-civ-spouse|   Exec-managerial|          Wife| White| Female|           0|           0|            40| United-States| <=50K|\n",
            "| 49|          Private|160187|       9th|            5| Married-spouse-a...|     Other-service| Not-in-family| Black| Female|           0|           0|            16|       Jamaica| <=50K|\n",
            "| 52| Self-emp-not-inc|209642|   HS-grad|            9|  Married-civ-spouse|   Exec-managerial|       Husband| White|   Male|           0|           0|            45| United-States|  >50K|\n",
            "| 31|          Private| 45781|   Masters|           14|       Never-married|    Prof-specialty| Not-in-family| White| Female|       14084|           0|            50| United-States|  >50K|\n",
            "| 42|          Private|159449| Bachelors|           13|  Married-civ-spouse|   Exec-managerial|       Husband| White|   Male|        5178|           0|            40| United-States|  >50K|\n",
            "+---+-----------------+------+----------+-------------+--------------------+------------------+--------------+------+-------+------------+------------+--------------+--------------+------+\n",
            "only showing top 10 rows\n",
            "\n"
          ]
        }
      ]
    },
    {
      "cell_type": "markdown",
      "source": [
        "#Data Preprocessing"
      ],
      "metadata": {
        "id": "WaxrsdZ4L2YH"
      }
    },
    {
      "cell_type": "markdown",
      "source": [
        "## Dropping Columns"
      ],
      "metadata": {
        "id": "CqHUNLUA25iJ"
      }
    },
    {
      "cell_type": "code",
      "source": [
        "# Drop fnlwgt and education-num columns\n",
        "inc_df = inc_df.drop(\"fnlwgt\", \"education-num\")"
      ],
      "metadata": {
        "id": "mtmpZbzebcMo"
      },
      "execution_count": null,
      "outputs": []
    },
    {
      "cell_type": "markdown",
      "source": [
        "##Handling missing values, empty strings and white spaces"
      ],
      "metadata": {
        "id": "ZX1fFPtzZEtG"
      }
    },
    {
      "cell_type": "code",
      "source": [
        "from pyspark.sql.functions import col, sum, when"
      ],
      "metadata": {
        "id": "_SFIMgp0LVfn"
      },
      "execution_count": null,
      "outputs": []
    },
    {
      "cell_type": "code",
      "source": [
        "# Check for missing values in each column\n",
        "missing_values = inc_df.select([(sum(col(c).isNull().cast(\"int\")).alias(c)) for c in inc_df.columns])"
      ],
      "metadata": {
        "id": "LQX2g5OtLWzw"
      },
      "execution_count": null,
      "outputs": []
    },
    {
      "cell_type": "code",
      "source": [
        "# Show columns with missing values\n",
        "missing_values.show()"
      ],
      "metadata": {
        "colab": {
          "base_uri": "https://localhost:8080/"
        },
        "id": "BXcSJ0NcLhxE",
        "outputId": "727e5aaa-0ff3-4be6-8f57-56fe96134274"
      },
      "execution_count": null,
      "outputs": [
        {
          "output_type": "stream",
          "name": "stdout",
          "text": [
            "+---+---------+---------+--------------+----------+------------+----+---+------------+------------+--------------+--------------+------+\n",
            "|Age|workclass|education|marital_status|occupation|relationship|race|sex|capital-gain|capital-loss|hours-per-week|native_country|income|\n",
            "+---+---------+---------+--------------+----------+------------+----+---+------------+------------+--------------+--------------+------+\n",
            "|  0|        0|        0|             0|         0|           0|   0|  0|           0|           0|             0|             0|     0|\n",
            "+---+---------+---------+--------------+----------+------------+----+---+------------+------------+--------------+--------------+------+\n",
            "\n"
          ]
        }
      ]
    },
    {
      "cell_type": "code",
      "source": [
        "# Count empty strings in each column\n",
        "empty_string_counts = inc_df.select([(sum(when(col(c) == '', 1).otherwise(0)).alias(c)) for c in inc_df.columns])"
      ],
      "metadata": {
        "id": "TzER5bTRQMmW"
      },
      "execution_count": null,
      "outputs": []
    },
    {
      "cell_type": "code",
      "source": [
        "empty_string_counts.show()"
      ],
      "metadata": {
        "colab": {
          "base_uri": "https://localhost:8080/"
        },
        "id": "7EJIF7T-Qif4",
        "outputId": "56f461eb-6e9a-4d24-fea3-c759a2c72eee"
      },
      "execution_count": null,
      "outputs": [
        {
          "output_type": "stream",
          "name": "stdout",
          "text": [
            "+---+---------+---------+--------------+----------+------------+----+---+------------+------------+--------------+--------------+------+\n",
            "|Age|workclass|education|marital_status|occupation|relationship|race|sex|capital-gain|capital-loss|hours-per-week|native_country|income|\n",
            "+---+---------+---------+--------------+----------+------------+----+---+------------+------------+--------------+--------------+------+\n",
            "|  0|        0|        0|             0|         0|           0|   0|  0|           0|           0|             0|             0|     0|\n",
            "+---+---------+---------+--------------+----------+------------+----+---+------------+------------+--------------+--------------+------+\n",
            "\n"
          ]
        }
      ]
    },
    {
      "cell_type": "code",
      "source": [
        "# Count whitespaces in each column\n",
        "whitespace_counts = inc_df.select([(sum(when(col(c).contains(' '), 1).otherwise(0)).alias(c)) for c in inc_df.columns])"
      ],
      "metadata": {
        "id": "k02I8oWSQm6T"
      },
      "execution_count": null,
      "outputs": []
    },
    {
      "cell_type": "code",
      "source": [
        "whitespace_counts.show()"
      ],
      "metadata": {
        "colab": {
          "base_uri": "https://localhost:8080/"
        },
        "id": "QYwF2zNOQvUB",
        "outputId": "8852deff-d0b2-4c1c-8dcf-537d2f740d16"
      },
      "execution_count": null,
      "outputs": [
        {
          "output_type": "stream",
          "name": "stdout",
          "text": [
            "+---+---------+---------+--------------+----------+------------+-----+-----+------------+------------+--------------+--------------+------+\n",
            "|Age|workclass|education|marital_status|occupation|relationship| race|  sex|capital-gain|capital-loss|hours-per-week|native_country|income|\n",
            "+---+---------+---------+--------------+----------+------------+-----+-----+------------+------------+--------------+--------------+------+\n",
            "|  0|    32561|    32561|         32561|     32561|       32561|32561|32561|           0|           0|             0|         32561| 32561|\n",
            "+---+---------+---------+--------------+----------+------------+-----+-----+------------+------------+--------------+--------------+------+\n",
            "\n"
          ]
        }
      ]
    },
    {
      "cell_type": "code",
      "source": [
        "#Trim whitespaces\n",
        "from pyspark.sql.functions import trim"
      ],
      "metadata": {
        "id": "d7sQ3qaERVbT"
      },
      "execution_count": null,
      "outputs": []
    },
    {
      "cell_type": "code",
      "source": [
        "# Trim whitespaces from string columns\n",
        "inc_df_trim = inc_df.select([trim(col(c)).alias(c) if dict(inc_df.dtypes)[c] == 'string' else col(c) for c in inc_df.columns])"
      ],
      "metadata": {
        "id": "eOhxkKuVSC7N"
      },
      "execution_count": null,
      "outputs": []
    },
    {
      "cell_type": "code",
      "source": [
        "# Show trimmed data\n",
        "inc_df_trim.show(5)"
      ],
      "metadata": {
        "colab": {
          "base_uri": "https://localhost:8080/"
        },
        "id": "OaD2C9QYSNqz",
        "outputId": "687788bb-e3c9-4bda-e608-7cfaed2e8b39"
      },
      "execution_count": null,
      "outputs": [
        {
          "output_type": "stream",
          "name": "stdout",
          "text": [
            "+---+----------------+---------+------------------+-----------------+-------------+-----+------+------------+------------+--------------+--------------+------+\n",
            "|Age|       workclass|education|    marital_status|       occupation| relationship| race|   sex|capital-gain|capital-loss|hours-per-week|native_country|income|\n",
            "+---+----------------+---------+------------------+-----------------+-------------+-----+------+------------+------------+--------------+--------------+------+\n",
            "| 39|       State-gov|Bachelors|     Never-married|     Adm-clerical|Not-in-family|White|  Male|        2174|           0|            40| United-States| <=50K|\n",
            "| 50|Self-emp-not-inc|Bachelors|Married-civ-spouse|  Exec-managerial|      Husband|White|  Male|           0|           0|            13| United-States| <=50K|\n",
            "| 38|         Private|  HS-grad|          Divorced|Handlers-cleaners|Not-in-family|White|  Male|           0|           0|            40| United-States| <=50K|\n",
            "| 53|         Private|     11th|Married-civ-spouse|Handlers-cleaners|      Husband|Black|  Male|           0|           0|            40| United-States| <=50K|\n",
            "| 28|         Private|Bachelors|Married-civ-spouse|   Prof-specialty|         Wife|Black|Female|           0|           0|            40|          Cuba| <=50K|\n",
            "+---+----------------+---------+------------------+-----------------+-------------+-----+------+------------+------------+--------------+--------------+------+\n",
            "only showing top 5 rows\n",
            "\n"
          ]
        }
      ]
    },
    {
      "cell_type": "code",
      "source": [
        "# Replace whitespace-only strings with NULL\n",
        "inc_df_final = inc_df_trim.select([when(trim(col(c)) == '', None).otherwise(col(c)).alias(c) if dict(inc_df_trim.dtypes)[c] == 'string' else col(c) for c in inc_df_trim.columns])"
      ],
      "metadata": {
        "id": "H3_lvBgkSfNz"
      },
      "execution_count": null,
      "outputs": []
    },
    {
      "cell_type": "code",
      "source": [
        "# Show cleaned data\n",
        "inc_df_final.show(5)"
      ],
      "metadata": {
        "colab": {
          "base_uri": "https://localhost:8080/"
        },
        "id": "tun81lrkS2s_",
        "outputId": "38df6489-f153-45a8-aed5-1e6c63379ebc"
      },
      "execution_count": null,
      "outputs": [
        {
          "output_type": "stream",
          "name": "stdout",
          "text": [
            "+---+----------------+---------+------------------+-----------------+-------------+-----+------+------------+------------+--------------+--------------+------+\n",
            "|Age|       workclass|education|    marital_status|       occupation| relationship| race|   sex|capital-gain|capital-loss|hours-per-week|native_country|income|\n",
            "+---+----------------+---------+------------------+-----------------+-------------+-----+------+------------+------------+--------------+--------------+------+\n",
            "| 39|       State-gov|Bachelors|     Never-married|     Adm-clerical|Not-in-family|White|  Male|        2174|           0|            40| United-States| <=50K|\n",
            "| 50|Self-emp-not-inc|Bachelors|Married-civ-spouse|  Exec-managerial|      Husband|White|  Male|           0|           0|            13| United-States| <=50K|\n",
            "| 38|         Private|  HS-grad|          Divorced|Handlers-cleaners|Not-in-family|White|  Male|           0|           0|            40| United-States| <=50K|\n",
            "| 53|         Private|     11th|Married-civ-spouse|Handlers-cleaners|      Husband|Black|  Male|           0|           0|            40| United-States| <=50K|\n",
            "| 28|         Private|Bachelors|Married-civ-spouse|   Prof-specialty|         Wife|Black|Female|           0|           0|            40|          Cuba| <=50K|\n",
            "+---+----------------+---------+------------------+-----------------+-------------+-----+------+------------+------------+--------------+--------------+------+\n",
            "only showing top 5 rows\n",
            "\n"
          ]
        }
      ]
    },
    {
      "cell_type": "markdown",
      "source": [
        "###Verifying Changes\n",
        "\n",
        "\n",
        "\n"
      ],
      "metadata": {
        "id": "x1M0CTAqVVcP"
      }
    },
    {
      "cell_type": "code",
      "source": [
        "# Check for missing values in each column\n",
        "missing_values = inc_df_final.select([(sum(col(c).isNull().cast(\"int\")).alias(c)) for c in inc_df_final.columns])\n",
        "missing_values.show()"
      ],
      "metadata": {
        "colab": {
          "base_uri": "https://localhost:8080/"
        },
        "id": "quQnEU8XVL2o",
        "outputId": "910da310-2124-4362-8db6-834e929018c8"
      },
      "execution_count": null,
      "outputs": [
        {
          "output_type": "stream",
          "name": "stdout",
          "text": [
            "+---+---------+---------+--------------+----------+------------+----+---+------------+------------+--------------+--------------+------+\n",
            "|Age|workclass|education|marital_status|occupation|relationship|race|sex|capital-gain|capital-loss|hours-per-week|native_country|income|\n",
            "+---+---------+---------+--------------+----------+------------+----+---+------------+------------+--------------+--------------+------+\n",
            "|  0|        0|        0|             0|         0|           0|   0|  0|           0|           0|             0|             0|     0|\n",
            "+---+---------+---------+--------------+----------+------------+----+---+------------+------------+--------------+--------------+------+\n",
            "\n"
          ]
        }
      ]
    },
    {
      "cell_type": "code",
      "source": [
        "# Count empty strings in each column\n",
        "empty_string_counts = inc_df_final.select([(sum(when(col(c) == '', 1).otherwise(0)).alias(c)) for c in inc_df_final.columns])\n",
        "empty_string_counts.show()"
      ],
      "metadata": {
        "colab": {
          "base_uri": "https://localhost:8080/"
        },
        "id": "NpJVOB_WYEwj",
        "outputId": "ebf92899-6c35-4dd9-87ba-8895516721ae"
      },
      "execution_count": null,
      "outputs": [
        {
          "output_type": "stream",
          "name": "stdout",
          "text": [
            "+---+---------+---------+--------------+----------+------------+----+---+------------+------------+--------------+--------------+------+\n",
            "|Age|workclass|education|marital_status|occupation|relationship|race|sex|capital-gain|capital-loss|hours-per-week|native_country|income|\n",
            "+---+---------+---------+--------------+----------+------------+----+---+------------+------------+--------------+--------------+------+\n",
            "|  0|        0|        0|             0|         0|           0|   0|  0|           0|           0|             0|             0|     0|\n",
            "+---+---------+---------+--------------+----------+------------+----+---+------------+------------+--------------+--------------+------+\n",
            "\n"
          ]
        }
      ]
    },
    {
      "cell_type": "code",
      "source": [
        "# Count whitespaces in each column\n",
        "whitespace_counts = inc_df_final.select([(sum(when(col(c).contains(' '), 1).otherwise(0)).alias(c)) for c in inc_df_final.columns])\n",
        "whitespace_counts.show()"
      ],
      "metadata": {
        "colab": {
          "base_uri": "https://localhost:8080/"
        },
        "id": "NLe9Pa17YQLW",
        "outputId": "22af0448-fb10-4a0c-b5c8-9d4f4ca81714"
      },
      "execution_count": null,
      "outputs": [
        {
          "output_type": "stream",
          "name": "stdout",
          "text": [
            "+---+---------+---------+--------------+----------+------------+----+---+------------+------------+--------------+--------------+------+\n",
            "|Age|workclass|education|marital_status|occupation|relationship|race|sex|capital-gain|capital-loss|hours-per-week|native_country|income|\n",
            "+---+---------+---------+--------------+----------+------------+----+---+------------+------------+--------------+--------------+------+\n",
            "|  0|        0|        0|             0|         0|           0|   0|  0|           0|           0|             0|             0|     0|\n",
            "+---+---------+---------+--------------+----------+------------+----+---+------------+------------+--------------+--------------+------+\n",
            "\n"
          ]
        }
      ]
    },
    {
      "cell_type": "markdown",
      "source": [
        "## Encoding Categorical Variables"
      ],
      "metadata": {
        "id": "s_Ha667HZO55"
      }
    },
    {
      "cell_type": "code",
      "source": [
        "from pyspark.sql.functions import col\n",
        "from pyspark.ml.feature import StringIndexer, OneHotEncoder, VectorAssembler, StandardScaler, ChiSqSelector"
      ],
      "metadata": {
        "id": "hqXC8gSlcplO"
      },
      "execution_count": null,
      "outputs": []
    },
    {
      "cell_type": "code",
      "source": [
        "# Define categorical and numerical columns\n",
        "categorical_columns = ['workclass', 'education', 'marital_status', 'occupation', 'relationship', 'race', 'sex', 'native_country']\n",
        "numerical_cols = ['Age', 'capital-gain', 'capital-loss', 'hours-per-week']\n",
        "label_col = 'income'"
      ],
      "metadata": {
        "id": "DPppm7jim_rj"
      },
      "execution_count": null,
      "outputs": []
    },
    {
      "cell_type": "code",
      "source": [
        "# Define the label indexer\n",
        "label_indexer = StringIndexer(inputCol=label_col, outputCol=\"label_index\")"
      ],
      "metadata": {
        "id": "efY_kHTJsgOl"
      },
      "execution_count": null,
      "outputs": []
    },
    {
      "cell_type": "code",
      "source": [
        "label_indexer"
      ],
      "metadata": {
        "colab": {
          "base_uri": "https://localhost:8080/"
        },
        "id": "s7V-txgTsjtm",
        "outputId": "46c65ac2-f6c7-4b0b-8c5b-dcf0de872844"
      },
      "execution_count": null,
      "outputs": [
        {
          "output_type": "execute_result",
          "data": {
            "text/plain": [
              "StringIndexer_3b310bd71ac3"
            ]
          },
          "metadata": {},
          "execution_count": 71
        }
      ]
    },
    {
      "cell_type": "code",
      "source": [
        "# Indexers\n",
        "indexers = [StringIndexer(inputCol=c, outputCol=c+\"_index\") for c in categorical_columns]"
      ],
      "metadata": {
        "id": "rM9Dn10vfWQs"
      },
      "execution_count": null,
      "outputs": []
    },
    {
      "cell_type": "code",
      "source": [
        "indexers"
      ],
      "metadata": {
        "colab": {
          "base_uri": "https://localhost:8080/"
        },
        "id": "ebKVoAUugk2X",
        "outputId": "c1d7c5c8-04da-4256-c837-931b8138e53e"
      },
      "execution_count": null,
      "outputs": [
        {
          "output_type": "execute_result",
          "data": {
            "text/plain": [
              "[StringIndexer_d8cb09ac274c,\n",
              " StringIndexer_3eb269f8eb8d,\n",
              " StringIndexer_29807b604de9,\n",
              " StringIndexer_76a044f3cf8c,\n",
              " StringIndexer_4a82d341c53f,\n",
              " StringIndexer_15b0803a4cbf,\n",
              " StringIndexer_76fe1d6824bb,\n",
              " StringIndexer_a236ab621bca]"
            ]
          },
          "metadata": {},
          "execution_count": 22
        }
      ]
    },
    {
      "cell_type": "code",
      "source": [
        "# Encoders\n",
        "encoders = [OneHotEncoder(inputCol=c+\"_index\", outputCol=c+\"_ohe\") for c in categorical_columns]"
      ],
      "metadata": {
        "id": "22OdBvqPfgoU"
      },
      "execution_count": null,
      "outputs": []
    },
    {
      "cell_type": "code",
      "source": [
        "encoders"
      ],
      "metadata": {
        "colab": {
          "base_uri": "https://localhost:8080/"
        },
        "id": "zhsWIcGwgn5i",
        "outputId": "4bb8ab65-13ee-402c-8875-0caa9afe116c"
      },
      "execution_count": null,
      "outputs": [
        {
          "output_type": "execute_result",
          "data": {
            "text/plain": [
              "[OneHotEncoder_85dcdafa2891,\n",
              " OneHotEncoder_11de27cd7472,\n",
              " OneHotEncoder_7f59b22ad9ac,\n",
              " OneHotEncoder_4e6ecd8a6f14,\n",
              " OneHotEncoder_ab89509a9104,\n",
              " OneHotEncoder_c6dca7ed7139,\n",
              " OneHotEncoder_c4e0e50807a6,\n",
              " OneHotEncoder_1389d5615efc]"
            ]
          },
          "metadata": {},
          "execution_count": 24
        }
      ]
    },
    {
      "cell_type": "code",
      "source": [
        "# Assemble features\n",
        "assembler = VectorAssembler(inputCols=[c+\"_ohe\" for c in categorical_columns] + numerical_cols, outputCol=\"features\")"
      ],
      "metadata": {
        "id": "qDx23OydfzUm"
      },
      "execution_count": null,
      "outputs": []
    },
    {
      "cell_type": "code",
      "source": [
        "assembler"
      ],
      "metadata": {
        "colab": {
          "base_uri": "https://localhost:8080/"
        },
        "id": "aATcTBYDgwkp",
        "outputId": "9f219104-7313-4136-bf12-199559829d91"
      },
      "execution_count": null,
      "outputs": [
        {
          "output_type": "execute_result",
          "data": {
            "text/plain": [
              "VectorAssembler_389c9ad357d7"
            ]
          },
          "metadata": {},
          "execution_count": 26
        }
      ]
    },
    {
      "cell_type": "markdown",
      "source": [
        "##Feature Scaling"
      ],
      "metadata": {
        "id": "fidDUktOmSz6"
      }
    },
    {
      "cell_type": "code",
      "source": [
        "# Scale features\n",
        "scaler = StandardScaler(inputCol=\"features\", outputCol=\"scaled_features\")"
      ],
      "metadata": {
        "id": "i2gq8l8_lR4b"
      },
      "execution_count": null,
      "outputs": []
    },
    {
      "cell_type": "code",
      "source": [
        "scaler"
      ],
      "metadata": {
        "colab": {
          "base_uri": "https://localhost:8080/"
        },
        "id": "8LMJNh2llf-d",
        "outputId": "7ef04f1c-9f5c-4a0e-f87f-d116502116b2"
      },
      "execution_count": null,
      "outputs": [
        {
          "output_type": "execute_result",
          "data": {
            "text/plain": [
              "StandardScaler_afe4fc947f6f"
            ]
          },
          "metadata": {},
          "execution_count": 28
        }
      ]
    },
    {
      "cell_type": "markdown",
      "source": [
        "##Creating Pipeline"
      ],
      "metadata": {
        "id": "eDdtB6SlmbKS"
      }
    },
    {
      "cell_type": "code",
      "source": [
        "from pyspark.ml import Pipeline"
      ],
      "metadata": {
        "id": "p9Vj2bmhlr2k"
      },
      "execution_count": null,
      "outputs": []
    },
    {
      "cell_type": "code",
      "source": [
        "# Create a pipeline with all stages\n",
        "pipeline = Pipeline(stages=[label_indexer] + indexers + encoders + [assembler, scaler])"
      ],
      "metadata": {
        "id": "EU1g9H-OlwbV"
      },
      "execution_count": null,
      "outputs": []
    },
    {
      "cell_type": "code",
      "source": [
        "# Fit and transform data\n",
        "pipeline_model = pipeline.fit(inc_df_final)\n",
        "processed_data = pipeline_model.transform(inc_df_final)"
      ],
      "metadata": {
        "id": "hTfD7-2Cl2Ko"
      },
      "execution_count": null,
      "outputs": []
    },
    {
      "cell_type": "code",
      "source": [
        "# Show the final data with features\n",
        "processed_data.select(\"scaled_features\", \"income\").show(5)"
      ],
      "metadata": {
        "colab": {
          "base_uri": "https://localhost:8080/"
        },
        "id": "8PpGItlgz2oT",
        "outputId": "2daf4f97-bd0d-420b-df57-03fcd0956b4f"
      },
      "execution_count": null,
      "outputs": [
        {
          "output_type": "stream",
          "name": "stdout",
          "text": [
            "+--------------------+------+\n",
            "|     scaled_features|income|\n",
            "+--------------------+------+\n",
            "|(98,[4,10,24,32,4...| <=50K|\n",
            "|(98,[1,10,23,31,4...| <=50K|\n",
            "|(98,[0,8,25,38,44...| <=50K|\n",
            "|(98,[0,13,23,38,4...| <=50K|\n",
            "|(98,[0,10,23,29,4...| <=50K|\n",
            "+--------------------+------+\n",
            "only showing top 5 rows\n",
            "\n"
          ]
        }
      ]
    },
    {
      "cell_type": "markdown",
      "source": [
        "##Train and Test Split"
      ],
      "metadata": {
        "id": "XrY0CjD4tMZ6"
      }
    },
    {
      "cell_type": "code",
      "source": [
        "# Split data into training and test sets\n",
        "train_data, test_data = processed_data.randomSplit([0.7, 0.3], seed=1234)"
      ],
      "metadata": {
        "id": "XL9HHCsrs-X-"
      },
      "execution_count": null,
      "outputs": []
    },
    {
      "cell_type": "code",
      "source": [
        "# Show the processed data\n",
        "processed_data.select(\"scaled_features\", \"label_index\").show(5, truncate=False)"
      ],
      "metadata": {
        "colab": {
          "base_uri": "https://localhost:8080/"
        },
        "id": "jYzlsTp0tSQZ",
        "outputId": "fb1549c7-1141-4e63-e669-117989fbf96f"
      },
      "execution_count": null,
      "outputs": [
        {
          "output_type": "stream",
          "name": "stdout",
          "text": [
            "+-------------------------------------------------------------------------------------------------------------------------------------------------------------------------------------------------------------------------------------------------------+-----------+\n",
            "|scaled_features                                                                                                                                                                                                                                        |label_index|\n",
            "+-------------------------------------------------------------------------------------------------------------------------------------------------------------------------------------------------------------------------------------------------------+-----------+\n",
            "|(98,[4,10,24,32,44,48,52,53,94,95,97],[5.1113826411478325,2.697608869138031,2.1298089222493997,3.1253021836524555,2.2940963550568068,2.8341681816681885,2.125369466818238,3.273851346433711,2.8591468669928934,0.29436885840473825,3.2395408818340017])|0.0        |\n",
            "|(98,[1,10,23,31,43,48,52,53,94,97],[3.7280642528904457,2.697608869138031,2.0064205313491192,3.0249837601330216,2.036933711294224,2.8341681816681885,2.125369466818238,3.273851346433711,3.6655729064011453,1.0528507865960506])                        |0.0        |\n",
            "|(98,[0,8,25,38,44,48,52,53,94,97],[2.176044934166801,2.1393063583706953,2.913135565088264,4.980995304516875,2.2940963550568068,2.8341681816681885,2.125369466818238,3.273851346433711,2.7858354088648705,3.2395408818340017])                          |0.0        |\n",
            "|(98,[0,13,23,38,43,49,52,53,94,97],[2.176044934166801,5.361720200680699,2.0064205313491192,4.980995304516875,2.036933711294224,3.395383068994125,2.125369466818238,3.273851346433711,3.8855072807852142,3.2395408818340017])                           |0.0        |\n",
            "|(98,[0,10,23,29,47,49,62,94,97],[2.176044934166801,2.697608869138031,2.0064205313491192,3.0017271779238732,4.670745756972397,3.395383068994125,18.540219455063713,2.0527208275846416,3.2395408818340017])                                              |0.0        |\n",
            "+-------------------------------------------------------------------------------------------------------------------------------------------------------------------------------------------------------------------------------------------------------+-----------+\n",
            "only showing top 5 rows\n",
            "\n"
          ]
        }
      ]
    },
    {
      "cell_type": "markdown",
      "source": [
        "# Train and Evaluate Models"
      ],
      "metadata": {
        "id": "FBacKLPTunXc"
      }
    },
    {
      "cell_type": "code",
      "source": [
        "from pyspark.ml.classification import LogisticRegression, DecisionTreeClassifier, RandomForestClassifier\n",
        "from pyspark.ml.evaluation import MulticlassClassificationEvaluator"
      ],
      "metadata": {
        "id": "hXl5gkEDuvNi"
      },
      "execution_count": null,
      "outputs": []
    },
    {
      "cell_type": "markdown",
      "source": [
        "### Logistic Regression"
      ],
      "metadata": {
        "id": "ZawMVwNeu6g_"
      }
    },
    {
      "cell_type": "code",
      "source": [
        "lr = LogisticRegression(labelCol=\"label_index\", featuresCol=\"scaled_features\")\n",
        "lr_model = lr.fit(train_data)\n",
        "lr_predictions = lr_model.transform(test_data)\n",
        "lr_evaluator = MulticlassClassificationEvaluator(labelCol=\"label_index\", predictionCol=\"prediction\", metricName=\"accuracy\")\n",
        "lr_accuracy = lr_evaluator.evaluate(lr_predictions)\n",
        "print(f\"Logistic Regression Accuracy: {lr_accuracy}\")"
      ],
      "metadata": {
        "colab": {
          "base_uri": "https://localhost:8080/"
        },
        "id": "suS0w7ldu55A",
        "outputId": "856bf6b6-60c6-49ea-cf34-48a852a57b70"
      },
      "execution_count": null,
      "outputs": [
        {
          "output_type": "stream",
          "name": "stdout",
          "text": [
            "Logistic Regression Accuracy: 0.8496125611745514\n"
          ]
        }
      ]
    },
    {
      "cell_type": "code",
      "source": [
        "lr_predictions.show(5)"
      ],
      "metadata": {
        "colab": {
          "base_uri": "https://localhost:8080/"
        },
        "id": "XU7Kp8Vq1RMd",
        "outputId": "32d6af55-915f-478d-c4f5-bb6b2ffbe6a1"
      },
      "execution_count": null,
      "outputs": [
        {
          "output_type": "stream",
          "name": "stdout",
          "text": [
            "+---+---------+---------+--------------+----------+--------------+-----+------+------------+------------+--------------+--------------+------+-----------+---------------+---------------+--------------------+----------------+------------------+----------+---------+--------------------+-------------+--------------+------------------+--------------+----------------+-------------+-------------+------------------+--------------------+--------------------+--------------------+--------------------+----------+\n",
            "|Age|workclass|education|marital_status|occupation|  relationship| race|   sex|capital-gain|capital-loss|hours-per-week|native_country|income|label_index|workclass_index|education_index|marital_status_index|occupation_index|relationship_index|race_index|sex_index|native_country_index|workclass_ohe| education_ohe|marital_status_ohe|occupation_ohe|relationship_ohe|     race_ohe|      sex_ohe|native_country_ohe|            features|     scaled_features|       rawPrediction|         probability|prediction|\n",
            "+---+---------+---------+--------------+----------+--------------+-----+------+------------+------------+--------------+--------------+------+-----------+---------------+---------------+--------------------+----------------+------------------+----------+---------+--------------------+-------------+--------------+------------------+--------------+----------------+-------------+-------------+------------------+--------------------+--------------------+--------------------+--------------------+----------+\n",
            "| 17|        ?|     10th| Never-married|         ?|Other-relative|White|  Male|           0|           0|             6| United-States| <=50K|        0.0|            3.0|            7.0|                 1.0|             7.0|               5.0|       0.0|      0.0|                 0.0|(8,[3],[1.0])|(15,[7],[1.0])|     (6,[1],[1.0])|(14,[7],[1.0])|       (5,[],[])|(4,[0],[1.0])|(1,[0],[1.0])|    (41,[0],[1.0])|(98,[3,15,24,36,4...|(98,[3,15,24,36,4...|[7.30211113367847...|[0.99932633999684...|       0.0|\n",
            "| 17|        ?|     10th| Never-married|         ?|Other-relative|White|  Male|           0|           0|            12| United-States| <=50K|        0.0|            3.0|            7.0|                 1.0|             7.0|               5.0|       0.0|      0.0|                 0.0|(8,[3],[1.0])|(15,[7],[1.0])|     (6,[1],[1.0])|(14,[7],[1.0])|       (5,[],[])|(4,[0],[1.0])|(1,[0],[1.0])|    (41,[0],[1.0])|(98,[3,15,24,36,4...|(98,[3,15,24,36,4...|[7.12032289072437...|[0.99919214750331...|       0.0|\n",
            "| 17|        ?|     10th| Never-married|         ?|     Own-child|Other|Female|           0|           0|            20| United-States| <=50K|        0.0|            3.0|            7.0|                 1.0|             7.0|               2.0|       4.0|      1.0|                 0.0|(8,[3],[1.0])|(15,[7],[1.0])|     (6,[1],[1.0])|(14,[7],[1.0])|   (5,[2],[1.0])|    (4,[],[])|    (1,[],[])|    (41,[0],[1.0])|(98,[3,15,24,36,4...|(98,[3,15,24,36,4...|[8.19961881432761...|[0.99972531718744...|       0.0|\n",
            "| 17|        ?|     10th| Never-married|         ?|     Own-child|White|  Male|           0|           0|            30| United-States| <=50K|        0.0|            3.0|            7.0|                 1.0|             7.0|               2.0|       0.0|      0.0|                 0.0|(8,[3],[1.0])|(15,[7],[1.0])|     (6,[1],[1.0])|(14,[7],[1.0])|   (5,[2],[1.0])|(4,[0],[1.0])|(1,[0],[1.0])|    (41,[0],[1.0])|(98,[3,15,24,36,4...|(98,[3,15,24,36,4...|[6.91284950219006...|[0.99900607014908...|       0.0|\n",
            "| 17|        ?|     10th| Never-married|         ?|     Own-child|White|  Male|           0|           0|            40| United-States| <=50K|        0.0|            3.0|            7.0|                 1.0|             7.0|               2.0|       0.0|      0.0|                 0.0|(8,[3],[1.0])|(15,[7],[1.0])|     (6,[1],[1.0])|(14,[7],[1.0])|   (5,[2],[1.0])|(4,[0],[1.0])|(1,[0],[1.0])|    (41,[0],[1.0])|(98,[3,15,24,36,4...|(98,[3,15,24,36,4...|[6.60986909726657...|[0.99865480352607...|       0.0|\n",
            "+---+---------+---------+--------------+----------+--------------+-----+------+------------+------------+--------------+--------------+------+-----------+---------------+---------------+--------------------+----------------+------------------+----------+---------+--------------------+-------------+--------------+------------------+--------------+----------------+-------------+-------------+------------------+--------------------+--------------------+--------------------+--------------------+----------+\n",
            "only showing top 5 rows\n",
            "\n"
          ]
        }
      ]
    },
    {
      "cell_type": "markdown",
      "source": [
        "### Decision Tree Classifier"
      ],
      "metadata": {
        "id": "u00HpQ59wAUg"
      }
    },
    {
      "cell_type": "code",
      "source": [
        "dt = DecisionTreeClassifier(labelCol=\"label_index\", featuresCol=\"scaled_features\")\n",
        "dt_model = dt.fit(train_data)\n",
        "dt_predictions = dt_model.transform(test_data)\n",
        "dt_evaluator = MulticlassClassificationEvaluator(labelCol=\"label_index\", predictionCol=\"prediction\", metricName=\"accuracy\")\n",
        "dt_accuracy = dt_evaluator.evaluate(dt_predictions)\n",
        "print(f\"Decision Tree Accuracy: {dt_accuracy}\")"
      ],
      "metadata": {
        "colab": {
          "base_uri": "https://localhost:8080/"
        },
        "id": "04aHUgK0v8E4",
        "outputId": "16257c9d-4271-46ff-e993-3d37c40a94fc"
      },
      "execution_count": null,
      "outputs": [
        {
          "output_type": "stream",
          "name": "stdout",
          "text": [
            "Decision Tree Accuracy: 0.8363580750407831\n"
          ]
        }
      ]
    },
    {
      "cell_type": "code",
      "source": [
        "dt_predictions.show(5)"
      ],
      "metadata": {
        "colab": {
          "base_uri": "https://localhost:8080/"
        },
        "id": "MGs8dE_r1bXc",
        "outputId": "b8e3c6ea-31b7-4e09-9d69-95e33f80075e"
      },
      "execution_count": null,
      "outputs": [
        {
          "output_type": "stream",
          "name": "stdout",
          "text": [
            "+---+---------+---------+--------------+----------+--------------+-----+------+------------+------------+--------------+--------------+------+-----------+---------------+---------------+--------------------+----------------+------------------+----------+---------+--------------------+-------------+--------------+------------------+--------------+----------------+-------------+-------------+------------------+--------------------+--------------------+--------------+--------------------+----------+\n",
            "|Age|workclass|education|marital_status|occupation|  relationship| race|   sex|capital-gain|capital-loss|hours-per-week|native_country|income|label_index|workclass_index|education_index|marital_status_index|occupation_index|relationship_index|race_index|sex_index|native_country_index|workclass_ohe| education_ohe|marital_status_ohe|occupation_ohe|relationship_ohe|     race_ohe|      sex_ohe|native_country_ohe|            features|     scaled_features| rawPrediction|         probability|prediction|\n",
            "+---+---------+---------+--------------+----------+--------------+-----+------+------------+------------+--------------+--------------+------+-----------+---------------+---------------+--------------------+----------------+------------------+----------+---------+--------------------+-------------+--------------+------------------+--------------+----------------+-------------+-------------+------------------+--------------------+--------------------+--------------+--------------------+----------+\n",
            "| 17|        ?|     10th| Never-married|         ?|Other-relative|White|  Male|           0|           0|             6| United-States| <=50K|        0.0|            3.0|            7.0|                 1.0|             7.0|               5.0|       0.0|      0.0|                 0.0|(8,[3],[1.0])|(15,[7],[1.0])|     (6,[1],[1.0])|(14,[7],[1.0])|       (5,[],[])|(4,[0],[1.0])|(1,[0],[1.0])|    (41,[0],[1.0])|(98,[3,15,24,36,4...|(98,[3,15,24,36,4...|[9439.0,240.0]|[0.97520405000516...|       0.0|\n",
            "| 17|        ?|     10th| Never-married|         ?|Other-relative|White|  Male|           0|           0|            12| United-States| <=50K|        0.0|            3.0|            7.0|                 1.0|             7.0|               5.0|       0.0|      0.0|                 0.0|(8,[3],[1.0])|(15,[7],[1.0])|     (6,[1],[1.0])|(14,[7],[1.0])|       (5,[],[])|(4,[0],[1.0])|(1,[0],[1.0])|    (41,[0],[1.0])|(98,[3,15,24,36,4...|(98,[3,15,24,36,4...|[9439.0,240.0]|[0.97520405000516...|       0.0|\n",
            "| 17|        ?|     10th| Never-married|         ?|     Own-child|Other|Female|           0|           0|            20| United-States| <=50K|        0.0|            3.0|            7.0|                 1.0|             7.0|               2.0|       4.0|      1.0|                 0.0|(8,[3],[1.0])|(15,[7],[1.0])|     (6,[1],[1.0])|(14,[7],[1.0])|   (5,[2],[1.0])|    (4,[],[])|    (1,[],[])|    (41,[0],[1.0])|(98,[3,15,24,36,4...|(98,[3,15,24,36,4...|[9439.0,240.0]|[0.97520405000516...|       0.0|\n",
            "| 17|        ?|     10th| Never-married|         ?|     Own-child|White|  Male|           0|           0|            30| United-States| <=50K|        0.0|            3.0|            7.0|                 1.0|             7.0|               2.0|       0.0|      0.0|                 0.0|(8,[3],[1.0])|(15,[7],[1.0])|     (6,[1],[1.0])|(14,[7],[1.0])|   (5,[2],[1.0])|(4,[0],[1.0])|(1,[0],[1.0])|    (41,[0],[1.0])|(98,[3,15,24,36,4...|(98,[3,15,24,36,4...|[9439.0,240.0]|[0.97520405000516...|       0.0|\n",
            "| 17|        ?|     10th| Never-married|         ?|     Own-child|White|  Male|           0|           0|            40| United-States| <=50K|        0.0|            3.0|            7.0|                 1.0|             7.0|               2.0|       0.0|      0.0|                 0.0|(8,[3],[1.0])|(15,[7],[1.0])|     (6,[1],[1.0])|(14,[7],[1.0])|   (5,[2],[1.0])|(4,[0],[1.0])|(1,[0],[1.0])|    (41,[0],[1.0])|(98,[3,15,24,36,4...|(98,[3,15,24,36,4...|[9439.0,240.0]|[0.97520405000516...|       0.0|\n",
            "+---+---------+---------+--------------+----------+--------------+-----+------+------------+------------+--------------+--------------+------+-----------+---------------+---------------+--------------------+----------------+------------------+----------+---------+--------------------+-------------+--------------+------------------+--------------+----------------+-------------+-------------+------------------+--------------------+--------------------+--------------+--------------------+----------+\n",
            "only showing top 5 rows\n",
            "\n"
          ]
        }
      ]
    },
    {
      "cell_type": "markdown",
      "source": [
        "### Random Forest Classifier"
      ],
      "metadata": {
        "id": "61t8GCRh0pzS"
      }
    },
    {
      "cell_type": "code",
      "source": [
        "rf = RandomForestClassifier(labelCol=\"label_index\", featuresCol=\"scaled_features\")\n",
        "rf_model = rf.fit(train_data)\n",
        "rf_predictions = rf_model.transform(test_data)\n",
        "rf_evaluator = MulticlassClassificationEvaluator(labelCol=\"label_index\", predictionCol=\"prediction\", metricName=\"accuracy\")\n",
        "rf_accuracy = rf_evaluator.evaluate(rf_predictions)\n",
        "print(f\"Random Forest Accuracy: {rf_accuracy}\")"
      ],
      "metadata": {
        "colab": {
          "base_uri": "https://localhost:8080/"
        },
        "id": "WzoHzCuo0dsK",
        "outputId": "64b60f0a-aaa2-4422-be47-faed9a95a8ca"
      },
      "execution_count": null,
      "outputs": [
        {
          "output_type": "stream",
          "name": "stdout",
          "text": [
            "Random Forest Accuracy: 0.8027120717781403\n"
          ]
        }
      ]
    },
    {
      "cell_type": "code",
      "source": [
        "rf_predictions.show(5)"
      ],
      "metadata": {
        "colab": {
          "base_uri": "https://localhost:8080/"
        },
        "id": "mljGzdHc1hHO",
        "outputId": "2ecda54a-5d76-4bfd-f97e-a303b0aa0319"
      },
      "execution_count": null,
      "outputs": [
        {
          "output_type": "stream",
          "name": "stdout",
          "text": [
            "+---+---------+---------+--------------+----------+--------------+-----+------+------------+------------+--------------+--------------+------+-----------+---------------+---------------+--------------------+----------------+------------------+----------+---------+--------------------+-------------+--------------+------------------+--------------+----------------+-------------+-------------+------------------+--------------------+--------------------+--------------------+--------------------+----------+\n",
            "|Age|workclass|education|marital_status|occupation|  relationship| race|   sex|capital-gain|capital-loss|hours-per-week|native_country|income|label_index|workclass_index|education_index|marital_status_index|occupation_index|relationship_index|race_index|sex_index|native_country_index|workclass_ohe| education_ohe|marital_status_ohe|occupation_ohe|relationship_ohe|     race_ohe|      sex_ohe|native_country_ohe|            features|     scaled_features|       rawPrediction|         probability|prediction|\n",
            "+---+---------+---------+--------------+----------+--------------+-----+------+------------+------------+--------------+--------------+------+-----------+---------------+---------------+--------------------+----------------+------------------+----------+---------+--------------------+-------------+--------------+------------------+--------------+----------------+-------------+-------------+------------------+--------------------+--------------------+--------------------+--------------------+----------+\n",
            "| 17|        ?|     10th| Never-married|         ?|Other-relative|White|  Male|           0|           0|             6| United-States| <=50K|        0.0|            3.0|            7.0|                 1.0|             7.0|               5.0|       0.0|      0.0|                 0.0|(8,[3],[1.0])|(15,[7],[1.0])|     (6,[1],[1.0])|(14,[7],[1.0])|       (5,[],[])|(4,[0],[1.0])|(1,[0],[1.0])|    (41,[0],[1.0])|(98,[3,15,24,36,4...|(98,[3,15,24,36,4...|[17.6117963954332...|[0.88058981977166...|       0.0|\n",
            "| 17|        ?|     10th| Never-married|         ?|Other-relative|White|  Male|           0|           0|            12| United-States| <=50K|        0.0|            3.0|            7.0|                 1.0|             7.0|               5.0|       0.0|      0.0|                 0.0|(8,[3],[1.0])|(15,[7],[1.0])|     (6,[1],[1.0])|(14,[7],[1.0])|       (5,[],[])|(4,[0],[1.0])|(1,[0],[1.0])|    (41,[0],[1.0])|(98,[3,15,24,36,4...|(98,[3,15,24,36,4...|[17.6117963954332...|[0.88058981977166...|       0.0|\n",
            "| 17|        ?|     10th| Never-married|         ?|     Own-child|Other|Female|           0|           0|            20| United-States| <=50K|        0.0|            3.0|            7.0|                 1.0|             7.0|               2.0|       4.0|      1.0|                 0.0|(8,[3],[1.0])|(15,[7],[1.0])|     (6,[1],[1.0])|(14,[7],[1.0])|   (5,[2],[1.0])|    (4,[],[])|    (1,[],[])|    (41,[0],[1.0])|(98,[3,15,24,36,4...|(98,[3,15,24,36,4...|[18.8533391084840...|[0.94266695542420...|       0.0|\n",
            "| 17|        ?|     10th| Never-married|         ?|     Own-child|White|  Male|           0|           0|            30| United-States| <=50K|        0.0|            3.0|            7.0|                 1.0|             7.0|               2.0|       0.0|      0.0|                 0.0|(8,[3],[1.0])|(15,[7],[1.0])|     (6,[1],[1.0])|(14,[7],[1.0])|   (5,[2],[1.0])|(4,[0],[1.0])|(1,[0],[1.0])|    (41,[0],[1.0])|(98,[3,15,24,36,4...|(98,[3,15,24,36,4...|[18.2765285192657...|[0.91382642596328...|       0.0|\n",
            "| 17|        ?|     10th| Never-married|         ?|     Own-child|White|  Male|           0|           0|            40| United-States| <=50K|        0.0|            3.0|            7.0|                 1.0|             7.0|               2.0|       0.0|      0.0|                 0.0|(8,[3],[1.0])|(15,[7],[1.0])|     (6,[1],[1.0])|(14,[7],[1.0])|   (5,[2],[1.0])|(4,[0],[1.0])|(1,[0],[1.0])|    (41,[0],[1.0])|(98,[3,15,24,36,4...|(98,[3,15,24,36,4...|[18.2765285192657...|[0.91382642596328...|       0.0|\n",
            "+---+---------+---------+--------------+----------+--------------+-----+------+------------+------------+--------------+--------------+------+-----------+---------------+---------------+--------------------+----------------+------------------+----------+---------+--------------------+-------------+--------------+------------------+--------------+----------------+-------------+-------------+------------------+--------------------+--------------------+--------------------+--------------------+----------+\n",
            "only showing top 5 rows\n",
            "\n"
          ]
        }
      ]
    }
  ]
}